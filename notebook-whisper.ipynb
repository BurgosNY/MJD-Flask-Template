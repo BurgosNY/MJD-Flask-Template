{
 "cells": [
  {
   "cell_type": "markdown",
   "metadata": {},
   "source": [
    "## Usando API da OpenAI para \"ler\" e interpretar imagens"
   ]
  },
  {
   "cell_type": "code",
   "execution_count": 3,
   "metadata": {},
   "outputs": [
    {
     "name": "stdout",
     "output_type": "stream",
     "text": [
      "{'id': 'chatcmpl-8z7J83qwcYWTIFWo1lxwI6Y8yGVcR', 'object': 'chat.completion', 'created': 1709576790, 'model': 'gpt-4-1106-vision-preview', 'usage': {'prompt_tokens': 1158, 'completion_tokens': 300, 'total_tokens': 1458}, 'choices': [{'message': {'role': 'assistant', 'content': 'Esta imagem captura um grande número de pessoas em uma manifestação com vários cartazes, refletindo uma diversidade de preocupações e demandas. Vários temas podem ser identificados nos cartazes, e embora não seja possível ler todos devido à distância e sobreposição, alguns dos textos visíveis e temas são os seguintes:\\n\\n1. \"POR TRANSPORTE PÚBLICO DE QUALIDADE E PREÇO JUSTO! - MOVIMENTO ESTUDANTIL - DIREITO UFPE.\" - Este cartaz faz referência direta às tarifas de transporte público e à qualidade do serviço, que foram os estopins para as manifestações de junho de 2013 no Brasil.\\n\\n2. \"PEC 37 NÃO\" e \"PEC 37 EU DIGO NÃO\" - Esses cartazes se referem à Proposta de Emenda à Constituição de número 37, que buscava limitar o poder de investigação do Ministério Público, e que foi um dos muitos pontos de controvérsia na época.\\n\\n3. \"VERÁS QUE UM FILHO TEU NÃO FOGE À LUTA\" - É uma frase do hino nacional brasileiro, indicando um chamado patriótico para a ação e para defender os direitos dos cidadãos.\\n\\n4. \"CONTRA A CORRUPÇÃO\" - Manifest'}, 'finish_reason': 'length', 'index': 0}]}\n"
     ]
    }
   ],
   "source": [
    "import base64\n",
    "import requests\n",
    "from dotenv import load_dotenv, find_dotenv\n",
    "import os\n",
    "#https://platform.openai.com/docs/api-reference/audio/createTranscription\n",
    "\n",
    "\n",
    "# Transformando uma imagem em um arquivo legível para o OpenAI\n",
    "def encode_image(image_path):\n",
    "  with open(image_path, \"rb\") as image_file:\n",
    "    return base64.b64encode(image_file.read()).decode('utf-8')\n",
    "\n",
    "# Onde está a imagem — prefira colocar no mesmo diretório do scripts\n",
    "image_path = \"manifestacoes-2013-recife.jpg\"\n",
    "\n",
    "# Trasnformando imagem em um string\n",
    "base64_image = encode_image(image_path)\n",
    "\n",
    "headers = {\n",
    "  \"Content-Type\": \"application/json\",\n",
    "  \"Authorization\": f\"Bearer {api_key}\"\n",
    "}\n",
    "\n",
    "payload = {\n",
    "  \"model\": \"gpt-4-vision-preview\",\n",
    "  \"messages\": [\n",
    "    {\n",
    "      \"role\": \"user\",\n",
    "      \"content\": [\n",
    "        {\n",
    "          \"type\": \"text\",\n",
    "          \"text\": \"Há vários cartazes nesta imagem das manifestações que aconteceram no Brasil em junho de 2013. Quais os principais temas delas? \\\n",
    "            Reproduza o texto e dê exemplos.\"\n",
    "        },\n",
    "        {\n",
    "          \"type\": \"image_url\",\n",
    "          \"image_url\": {\n",
    "            \"url\": f\"data:image/jpeg;base64,{base64_image}\"\n",
    "          }\n",
    "        }\n",
    "      ]\n",
    "    }\n",
    "  ],\n",
    "  \"max_tokens\": 300\n",
    "}\n",
    "\n",
    "response = requests.post(\"https://api.openai.com/v1/chat/completions\", headers=headers, json=payload)\n"
   ]
  },
  {
   "cell_type": "code",
   "execution_count": 5,
   "metadata": {},
   "outputs": [
    {
     "name": "stdout",
     "output_type": "stream",
     "text": [
      "Esta imagem captura um grande número de pessoas em uma manifestação com vários cartazes, refletindo uma diversidade de preocupações e demandas. Vários temas podem ser identificados nos cartazes, e embora não seja possível ler todos devido à distância e sobreposição, alguns dos textos visíveis e temas são os seguintes:\n",
      "\n",
      "1. \"POR TRANSPORTE PÚBLICO DE QUALIDADE E PREÇO JUSTO! - MOVIMENTO ESTUDANTIL - DIREITO UFPE.\" - Este cartaz faz referência direta às tarifas de transporte público e à qualidade do serviço, que foram os estopins para as manifestações de junho de 2013 no Brasil.\n",
      "\n",
      "2. \"PEC 37 NÃO\" e \"PEC 37 EU DIGO NÃO\" - Esses cartazes se referem à Proposta de Emenda à Constituição de número 37, que buscava limitar o poder de investigação do Ministério Público, e que foi um dos muitos pontos de controvérsia na época.\n",
      "\n",
      "3. \"VERÁS QUE UM FILHO TEU NÃO FOGE À LUTA\" - É uma frase do hino nacional brasileiro, indicando um chamado patriótico para a ação e para defender os direitos dos cidadãos.\n",
      "\n",
      "4. \"CONTRA A CORRUPÇÃO\" - Manifest\n"
     ]
    }
   ],
   "source": [
    "print(response.json()['choices'][0]['message']['content'])"
   ]
  },
  {
   "cell_type": "markdown",
   "metadata": {},
   "source": [
    "## Usando Whisper para transcrever áudio"
   ]
  },
  {
   "cell_type": "markdown",
   "metadata": {},
   "source": [
    "Whisper é um modelo poderoso de _speech-to-text_, que pode ser usado tanto via API da OpenAI quanto localmente (instalado no computador — instruções [aqui](https://github.com/openai/whisper)). Vamos mostrar o seu uso via API primeiro:"
   ]
  },
  {
   "cell_type": "code",
   "execution_count": 9,
   "metadata": {},
   "outputs": [],
   "source": [
    "from dotenv import load_dotenv, find_dotenv\n",
    "from openai import OpenAI\n",
    "load_dotenv(find_dotenv())\n",
    "\n",
    "client = OpenAI()\n",
    "\n",
    "# Aqui é um exemplo super simples:\n",
    "audio_file = open(\"exemplo-audio.mp3\", \"rb\")\n",
    "transcript = client.audio.transcriptions.create(\n",
    "  model=\"whisper-1\",\n",
    "  file=audio_file\n",
    ")\n"
   ]
  },
  {
   "cell_type": "markdown",
   "metadata": {},
   "source": [
    "Você pode acrescentar um prompt para melhorar a legibilidade da transcrição, acrescentando palavras específicas por exemplo:\n",
    "\n",
    "`prompt=\"ZyntriQix, Digique Plus, CynapseFive, VortiQore V8, EchoNix Array, OrbitalLink Seven, DigiFractal Matrix, PULSE, RAPT, B.R.I.C.K., Q.U.A.R.T.Z., F.L.I.N.T.\"`\n",
    "veja mais exemplos [neste link](https://platform.openai.com/docs/guides/speech-to-text/improving-reliability).\n",
    "\n",
    "Outra coisa que você pode fazer é mudar o output, usando por exemplo um .srt (para ser usado em legendas)"
   ]
  },
  {
   "cell_type": "code",
   "execution_count": null,
   "metadata": {},
   "outputs": [],
   "source": [
    "#Agora copiamos para a área de trabalho:\n",
    "from pyperclip import copy\n",
    "\n",
    "copy(transcript.text)"
   ]
  }
 ],
 "metadata": {
  "kernelspec": {
   "display_name": "Python 3",
   "language": "python",
   "name": "python3"
  },
  "language_info": {
   "codemirror_mode": {
    "name": "ipython",
    "version": 3
   },
   "file_extension": ".py",
   "mimetype": "text/x-python",
   "name": "python",
   "nbconvert_exporter": "python",
   "pygments_lexer": "ipython3",
   "version": "3.11.7"
  }
 },
 "nbformat": 4,
 "nbformat_minor": 2
}
